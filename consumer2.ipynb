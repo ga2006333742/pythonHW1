{
 "cells": [
  {
   "cell_type": "code",
   "execution_count": null,
   "metadata": {
    "collapsed": false,
    "scrolled": false
   },
   "outputs": [],
   "source": [
    "from kafka import SimpleConsumer, SimpleClient\n",
    "from kafka import KafkaConsumer\n",
    "from kafka import KafkaClient\n",
    "\n",
    "\n",
    "group_name = \"my-group\"\n",
    "topic_name = \"test1\"\n",
    "\n",
    "kafka = KafkaClient('localhost:9092')\n",
    "consumer = SimpleConsumer(kafka, group_name, topic_name)\n",
    "\n",
    "print (\"Created consumer for group: [%s] and topic: [%s]\" % (group_name, topic_name))\n",
    "print (\"Waiting for messages...\")\n",
    "\n",
    "for msg in consumer:\n",
    "    fp = open(\"entertainment.txt\", \"a\")\n",
    "    aaa = msg.message.value.decode('utf-8')\n",
    "    fp.write(aaa+\"\\n\")\n",
    "    fp.close()\n",
    "    print (aaa)"
   ]
  },
  {
   "cell_type": "code",
   "execution_count": null,
   "metadata": {
    "collapsed": true
   },
   "outputs": [],
   "source": []
  }
 ],
 "metadata": {
  "kernelspec": {
   "display_name": "Python 3",
   "language": "python",
   "name": "python3"
  },
  "language_info": {
   "codemirror_mode": {
    "name": "ipython",
    "version": 3
   },
   "file_extension": ".py",
   "mimetype": "text/x-python",
   "name": "python",
   "nbconvert_exporter": "python",
   "pygments_lexer": "ipython3",
   "version": "3.6.0"
  }
 },
 "nbformat": 4,
 "nbformat_minor": 2
}
