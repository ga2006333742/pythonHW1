{
 "cells": [
  {
   "cell_type": "code",
   "execution_count": null,
   "metadata": {
    "collapsed": false
   },
   "outputs": [],
   "source": [
    "import requests\n",
    "import time\n",
    "import json\n",
    "from bs4 import BeautifulSoup\n",
    "from selenium import webdriver\n",
    "from selenium.webdriver.chrome.options import Options\n",
    "from kafka import KafkaClient\n",
    "from kafka import SimpleProducer\n",
    "from kafka import KafkaProducer\n",
    "import sys"
   ]
  },
  {
   "cell_type": "code",
   "execution_count": null,
   "metadata": {
    "collapsed": true
   },
   "outputs": [],
   "source": [
    "YAHOO_URL = 'https://tw.news.yahoo.com/politics'\n",
    "kafka = KafkaClient('localhost:9092')\n",
    "producer = SimpleProducer(kafka, async=True)\n",
    "topic_name = \"test\""
   ]
  },
  {
   "cell_type": "code",
   "execution_count": null,
   "metadata": {
    "collapsed": true
   },
   "outputs": [],
   "source": [
    "def get_web_page(url):\n",
    "    resp = requests.get(\n",
    "        url=url,\n",
    "        #cookies={'over18': '1'}\n",
    "    )\n",
    "    if resp.status_code != 200:\n",
    "        print('Invalid url:', resp.url)\n",
    "        return None\n",
    "    else:\n",
    "        return resp.text"
   ]
  },
  {
   "cell_type": "code",
   "execution_count": null,
   "metadata": {
    "collapsed": true
   },
   "outputs": [],
   "source": [
    "def get_articles(dom, date):\n",
    "    #print(dom)\n",
    "    soup = BeautifulSoup(dom, 'html5lib')\n",
    "\n",
    "    divs = soup.find_all('div',class_='Py(14px) Pos(r)')\n",
    "    #print(divs)\n",
    "    for d in divs:\n",
    "        # 取得文章連結及標題\n",
    "        if d.find('a'):  # 有超連結，表示文章存在，未被刪除\n",
    "            #href = d.find('a')['href']\n",
    "            title = d.find('a').text\n",
    "            sending = u'%s' % title\n",
    "            print (sending)\n",
    "            producer.send_messages('test', sending.encode('utf-8'))\n",
    "            \n",
    "    return articles"
   ]
  },
  {
   "cell_type": "code",
   "execution_count": null,
   "metadata": {
    "collapsed": false,
    "scrolled": true,
    "slideshow": {
     "slide_type": "-"
    }
   },
   "outputs": [],
   "source": [
    "if __name__ == '__main__':\n",
    "    current_page = get_web_page(YAHOO_URL)\n",
    "    if current_page:\n",
    "        articles = []  # 全部的今日文章\n",
    "        today = time.strftime(\"%m_%d_%H_%M\")  # 今天日期\n",
    "        \n",
    "        options = Options()\n",
    "        options.add_argument(\"--disable-notifications\")\n",
    "        options.add_argument(\"--start-maximized\")\n",
    "\n",
    "        driver = webdriver.Chrome(executable_path=r'C:\\Users\\Leo\\Documents\\project01\\chromedriver',chrome_options=options) # chrome瀏覽器\n",
    "        time.sleep(3)\n",
    "        driver.get('https://tw.news.yahoo.com/politics')\n",
    "        time.sleep(15)\n",
    "        for i in range(8):  # 進行n次\n",
    "            #driver.execute_script(js)    \n",
    "            driver.execute_script('window.scrollTo(0,30000)')  # 重複往下捲動\n",
    "            time.sleep(1)  # 每次執行打瞌睡一秒 \n",
    "            \n",
    "        pageSource = driver.page_source    \n",
    "        HandsomeYuLi = get_articles(pageSource, today)  # 目前頁面的今日文章\n",
    "             \n",
    "driver.close()"
   ]
  },
  {
   "cell_type": "code",
   "execution_count": null,
   "metadata": {
    "collapsed": true
   },
   "outputs": [],
   "source": []
  }
 ],
 "metadata": {
  "kernelspec": {
   "display_name": "Python 3",
   "language": "python",
   "name": "python3"
  },
  "language_info": {
   "codemirror_mode": {
    "name": "ipython",
    "version": 3
   },
   "file_extension": ".py",
   "mimetype": "text/x-python",
   "name": "python",
   "nbconvert_exporter": "python",
   "pygments_lexer": "ipython3",
   "version": "3.6.0"
  }
 },
 "nbformat": 4,
 "nbformat_minor": 2
}
