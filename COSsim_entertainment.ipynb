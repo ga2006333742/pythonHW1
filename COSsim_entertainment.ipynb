{
 "cells": [
  {
   "cell_type": "code",
   "execution_count": null,
   "metadata": {
    "collapsed": false,
    "scrolled": true
   },
   "outputs": [],
   "source": [
    "from sklearn import feature_extraction\n",
    "from sklearn.feature_extraction.text import TfidfTransformer\n",
    "from sklearn.feature_extraction.text import CountVectorizer\n",
    "import jieba\n",
    "jieba.set_dictionary('dict.txt.big')\n",
    "from sklearn import feature_extraction\n",
    "from sklearn.feature_extraction.text import TfidfVectorizer\n",
    "from scipy import spatial\n",
    "corpus = []\n",
    "f = open('entertainment.txt','r',encoding = 'big5')\n",
    "for line in f:\n",
    "    corpus.append(\" \".join(jieba.cut(line.split(',')[0], cut_all=False)))\n",
    "cv = CountVectorizer()\n",
    "term_doc = cv.fit_transform(corpus)\n",
    "transformer = TfidfTransformer()\n",
    "tfidf = transformer.fit_transform(term_doc)\n",
    "fv = tfidf.toarray()\n",
    "score ={}\n",
    "\n",
    "for line in f:\n",
    "    corpus.append(\"\".join(jieba.cut(line.splite(',')[0],cut_all=False)))\n",
    "\n",
    "# for i in range(len(fv)):\n",
    "#     print('----Document %d----' % (i))\n",
    "#     print(fv[i])\n",
    "\n",
    "for k in range(len(fv)):\n",
    "    fp = open(\"result_entertainment.txt\", \"a\")\n",
    "    print('第%d篇:'%(k+1) + corpus[k].strip().replace(\" \",\"\"))\n",
    "    fp.write('第%d篇:'%(k+1) + corpus[k].strip().replace(\" \",\"\"))\n",
    "    fp.close()\n",
    "    temp = 1\n",
    "    for i in range(len(fv)):\n",
    "        #print('Cosine sim. from {} to {} is {}'.format(k+1,i+1,1 - spatial.distance.cosine(fv[k], fv[i])))\n",
    "        score[1-spatial.distance.cosine(fv[k], fv[i])]=i\n",
    "        \n",
    "    \n",
    "    for value,line_number in list(reversed(sorted(score.items()))):\n",
    "        \n",
    "        if value ==0.0 or value == 1.0:\n",
    "            \n",
    "            continue\n",
    "        temp = temp + 1 \n",
    "        fp = open(\"result_entertainment.txt\", \"a\")\n",
    "        print('第%d相似:'%(temp-1) + '{}:{}'.format(value,corpus[line_number].strip().replace(\" \",\"\")))\n",
    "        fp.write('第%d相似:'%(temp-1) + '{}:{}'.format(value,corpus[line_number].strip().replace(\" \",\"\")))\n",
    "        fp.close()\n",
    "        if temp == 4:\n",
    "            break\n",
    "    fp = open(\"result_entertainment.txt\", \"a\")\n",
    "    fp.write('\\n')\n",
    "    print('\\n')            \n",
    "    fp.close()            "
   ]
  },
  {
   "cell_type": "code",
   "execution_count": null,
   "metadata": {
    "collapsed": true
   },
   "outputs": [],
   "source": []
  }
 ],
 "metadata": {
  "kernelspec": {
   "display_name": "Python 3",
   "language": "python",
   "name": "python3"
  },
  "language_info": {
   "codemirror_mode": {
    "name": "ipython",
    "version": 3
   },
   "file_extension": ".py",
   "mimetype": "text/x-python",
   "name": "python",
   "nbconvert_exporter": "python",
   "pygments_lexer": "ipython3",
   "version": "3.6.0"
  }
 },
 "nbformat": 4,
 "nbformat_minor": 2
}
